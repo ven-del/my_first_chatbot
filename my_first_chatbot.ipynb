{
  "nbformat": 4,
  "nbformat_minor": 0,
  "metadata": {
    "colab": {
      "provenance": [],
      "authorship_tag": "ABX9TyOQ1fD/c/b7n3Db9YAUIQHY",
      "include_colab_link": true
    },
    "kernelspec": {
      "name": "python3",
      "display_name": "Python 3"
    },
    "language_info": {
      "name": "python"
    }
  },
  "cells": [
    {
      "cell_type": "markdown",
      "metadata": {
        "id": "view-in-github",
        "colab_type": "text"
      },
      "source": [
        "<a href=\"https://colab.research.google.com/github/ven-del/my_first_chatbot/blob/main/my_first_chatbot.ipynb\" target=\"_parent\"><img src=\"https://colab.research.google.com/assets/colab-badge.svg\" alt=\"Open In Colab\"/></a>"
      ]
    },
    {
      "cell_type": "code",
      "execution_count": 1,
      "metadata": {
        "id": "qUOWvJNV8MZQ"
      },
      "outputs": [],
      "source": [
        "!pip install -q -U google-generativeai"
      ]
    },
    {
      "cell_type": "code",
      "source": [
        "import google.generativeai as genai\n",
        "from google.colab import userdata\n",
        "\n",
        "secret = userdata.get('secret')\n",
        "GOOGLE_API_KEY=userdata.get('secret')\n",
        "genai.configure(api_key=GOOGLE_API_KEY)"
      ],
      "metadata": {
        "id": "8CLLCXWe9VBX"
      },
      "execution_count": 2,
      "outputs": []
    },
    {
      "cell_type": "code",
      "source": [
        "for model in genai.list_models():\n",
        "  if 'generateContent' in model.supported_generation_methods:\n",
        "    print(model.name)"
      ],
      "metadata": {
        "colab": {
          "base_uri": "https://localhost:8080/",
          "height": 139
        },
        "id": "R9Az6si39cSY",
        "outputId": "dea877e0-a5bd-4ff0-b10b-0feb19acb53d"
      },
      "execution_count": 5,
      "outputs": [
        {
          "output_type": "stream",
          "name": "stdout",
          "text": [
            "models/gemini-1.0-pro\n",
            "models/gemini-1.0-pro-001\n",
            "models/gemini-1.0-pro-latest\n",
            "models/gemini-1.0-pro-vision-latest\n",
            "models/gemini-1.5-pro-latest\n",
            "models/gemini-pro\n",
            "models/gemini-pro-vision\n"
          ]
        }
      ]
    },
    {
      "cell_type": "code",
      "source": [
        "generation_config = {\n",
        "    'candidate_count': 1,\n",
        "    'temperature': 0.5,\n",
        "}"
      ],
      "metadata": {
        "id": "A6qT2xg8AJw2"
      },
      "execution_count": 12,
      "outputs": []
    },
    {
      "cell_type": "code",
      "source": [
        "safety_settings = {\n",
        "    'HARASSMENT': 'BLOCK_NONE',\n",
        "    'HATE': 'BLOCK_NONE',\n",
        "    'SEXUAL': 'BLOCK_NONE',\n",
        "    'DANGEROUS': 'BLOCK_NONE',\n",
        "}"
      ],
      "metadata": {
        "id": "YklLVIeyAphQ"
      },
      "execution_count": 7,
      "outputs": []
    },
    {
      "cell_type": "code",
      "source": [
        "model = genai.GenerativeModel(model_name='gemini-1.0-pro', generation_config=generation_config, safety_settings=safety_settings)"
      ],
      "metadata": {
        "id": "HBOFeaZ2BUZ-"
      },
      "execution_count": 14,
      "outputs": []
    },
    {
      "cell_type": "code",
      "source": [
        "chat = model.start_chat(history=[])"
      ],
      "metadata": {
        "id": "CPTJWD4vCieY"
      },
      "execution_count": 15,
      "outputs": []
    },
    {
      "cell_type": "code",
      "source": [
        "prompt = input('Digite aqui seu prompt: ')\n",
        "\n",
        "while prompt != 'sair':\n",
        "  response = chat.send_message(prompt)\n",
        "  print(response.text, \"\\n\")\n",
        "  prompt = input('Digite aqui seu prompt: ')"
      ],
      "metadata": {
        "colab": {
          "base_uri": "https://localhost:8080/",
          "height": 451
        },
        "id": "xA_LbXptDcd4",
        "outputId": "2d7b1eda-1230-46ac-b037-9449e67de062"
      },
      "execution_count": 17,
      "outputs": [
        {
          "name": "stdout",
          "output_type": "stream",
          "text": [
            "Digite aqui seu prompt: Qual a capital do Japão?\n",
            "Tóquio \n",
            "\n",
            "Digite aqui seu prompt: Qual a comida tipica desse pais?\n",
            "Sushi\n",
            "\n",
            "Outras comidas típicas do Japão incluem:\n",
            "\n",
            "* Sashimi\n",
            "* Tempura\n",
            "* Ramen\n",
            "* Udon\n",
            "* Soba\n",
            "* Onigiri\n",
            "* Yakitori\n",
            "* Takoyaki\n",
            "* Okonomiyaki\n",
            "* Mochi \n",
            "\n",
            "Digite aqui seu prompt: Uma amiga nasceu nessa cidade. Qual a sua nacionalidade?\n",
            "Japonesa\n",
            "\n",
            "Tóquio é a capital do Japão, portanto, sua amiga é japonesa. \n",
            "\n",
            "Digite aqui seu prompt: sair\n"
          ]
        }
      ]
    }
  ]
}